{
 "cells": [
  {
   "cell_type": "markdown",
   "metadata": {},
   "source": [
    "$$ \\Huge \\text{Forecasting COVID deaths in NC}$$ "
   ]
  },
  {
   "cell_type": "markdown",
   "metadata": {},
   "source": [
    "# Covid Data\n",
    "\n",
    "\n",
    "    \n",
    "__NC DHHS__\n",
    "\n",
    "https://covid19.ncdhhs.gov/dashboard/about-data    \n",
    "    \n",
    "   \n"
   ]
  },
  {
   "cell_type": "markdown",
   "metadata": {},
   "source": [
    "## Pandas\n",
    "\n",
    "# I'll be using [Pandas](https://pandas.pydata.org/) to load in my data. \n",
    "    "
   ]
  },
  {
   "cell_type": "code",
   "execution_count": 1,
   "metadata": {
    "ExecuteTime": {
     "end_time": "2020-09-23T17:36:08.182154Z",
     "start_time": "2020-09-23T17:36:05.888238Z"
    }
   },
   "outputs": [],
   "source": [
    "import matplotlib\n",
    "import matplotlib.pyplot as plt\n",
    "import numpy as np\n",
    "from sklearn import linear_model\n",
    "from sklearn.preprocessing import PolynomialFeatures\n",
    "import pandas as pd\n",
    "\n",
    "reg=linear_model.LinearRegression() # Constructing SKlearn model"
   ]
  },
  {
   "cell_type": "code",
   "execution_count": 2,
   "metadata": {
    "ExecuteTime": {
     "end_time": "2020-09-23T17:36:08.208132Z",
     "start_time": "2020-09-23T17:36:08.184144Z"
    }
   },
   "outputs": [
    {
     "data": {
      "text/html": [
       "<div>\n",
       "<style scoped>\n",
       "    .dataframe tbody tr th:only-of-type {\n",
       "        vertical-align: middle;\n",
       "    }\n",
       "\n",
       "    .dataframe tbody tr th {\n",
       "        vertical-align: top;\n",
       "    }\n",
       "\n",
       "    .dataframe thead th {\n",
       "        text-align: right;\n",
       "    }\n",
       "</style>\n",
       "<table border=\"1\" class=\"dataframe\">\n",
       "  <thead>\n",
       "    <tr style=\"text-align: right;\">\n",
       "      <th></th>\n",
       "      <th>Date</th>\n",
       "      <th>New Cases by Report Date</th>\n",
       "      <th>New Cases by Specimen Date</th>\n",
       "      <th>Positive Test Percentage</th>\n",
       "      <th>NC Daily Tests</th>\n",
       "      <th>NC Deaths</th>\n",
       "    </tr>\n",
       "  </thead>\n",
       "  <tbody>\n",
       "    <tr>\n",
       "      <th>0</th>\n",
       "      <td>9/22/2020</td>\n",
       "      <td>1,168</td>\n",
       "      <td>NaN</td>\n",
       "      <td>NaN</td>\n",
       "      <td>NaN</td>\n",
       "      <td>3286.0</td>\n",
       "    </tr>\n",
       "    <tr>\n",
       "      <th>1</th>\n",
       "      <td>9/21/2020</td>\n",
       "      <td>800</td>\n",
       "      <td>30</td>\n",
       "      <td>NaN</td>\n",
       "      <td>14,029</td>\n",
       "      <td>3247.0</td>\n",
       "    </tr>\n",
       "    <tr>\n",
       "      <th>2</th>\n",
       "      <td>9/20/2020</td>\n",
       "      <td>1,333</td>\n",
       "      <td>260</td>\n",
       "      <td>5.40%</td>\n",
       "      <td>22,476</td>\n",
       "      <td>3243.0</td>\n",
       "    </tr>\n",
       "    <tr>\n",
       "      <th>3</th>\n",
       "      <td>9/19/2020</td>\n",
       "      <td>1,229</td>\n",
       "      <td>451</td>\n",
       "      <td>5.30%</td>\n",
       "      <td>25,953</td>\n",
       "      <td>3235.0</td>\n",
       "    </tr>\n",
       "    <tr>\n",
       "      <th>4</th>\n",
       "      <td>9/18/2020</td>\n",
       "      <td>1,443</td>\n",
       "      <td>1,082</td>\n",
       "      <td>4.60%</td>\n",
       "      <td>34,307</td>\n",
       "      <td>3207.0</td>\n",
       "    </tr>\n",
       "  </tbody>\n",
       "</table>\n",
       "</div>"
      ],
      "text/plain": [
       "        Date New Cases by Report Date New Cases by Specimen Date  \\\n",
       "0  9/22/2020                    1,168                        NaN   \n",
       "1  9/21/2020                      800                         30   \n",
       "2  9/20/2020                    1,333                        260   \n",
       "3  9/19/2020                    1,229                        451   \n",
       "4  9/18/2020                    1,443                      1,082   \n",
       "\n",
       "  Positive Test Percentage NC Daily Tests  NC Deaths  \n",
       "0                      NaN            NaN     3286.0  \n",
       "1                      NaN         14,029     3247.0  \n",
       "2                    5.40%         22,476     3243.0  \n",
       "3                    5.30%         25,953     3235.0  \n",
       "4                    4.60%         34,307     3207.0  "
      ]
     },
     "execution_count": 2,
     "metadata": {},
     "output_type": "execute_result"
    }
   ],
   "source": [
    "# Reading in the data with Pandas\n",
    "nccovid=pd.read_csv('NCcovid.csv')\n",
    "nccovid.head()"
   ]
  },
  {
   "cell_type": "code",
   "execution_count": 3,
   "metadata": {
    "ExecuteTime": {
     "end_time": "2020-09-23T17:36:08.220099Z",
     "start_time": "2020-09-23T17:36:08.213103Z"
    }
   },
   "outputs": [
    {
     "data": {
      "text/plain": [
       "(182,)"
      ]
     },
     "execution_count": 3,
     "metadata": {},
     "output_type": "execute_result"
    }
   ],
   "source": [
    "date=nccovid['Date']\n",
    "y=nccovid['NC Deaths']\n",
    "date.shape # 182 days of data "
   ]
  },
  {
   "cell_type": "code",
   "execution_count": 4,
   "metadata": {
    "ExecuteTime": {
     "end_time": "2020-09-23T17:37:06.278987Z",
     "start_time": "2020-09-23T17:37:06.272972Z"
    }
   },
   "outputs": [],
   "source": [
    "# Reshpaing the data \n",
    "x=np.linspace(182,1,182)\n",
    "x=np.reshape(x,(182,1))\n",
    "y=np.array(y)\n",
    "y=np.reshape(y,(182,1))"
   ]
  },
  {
   "cell_type": "markdown",
   "metadata": {},
   "source": [
    "# Simple Linear Regression\n",
    "\n",
    "# This model takes the form  $h(x)=a+b x$ "
   ]
  },
  {
   "cell_type": "code",
   "execution_count": 5,
   "metadata": {
    "ExecuteTime": {
     "end_time": "2020-09-23T17:37:09.026867Z",
     "start_time": "2020-09-23T17:37:09.017895Z"
    }
   },
   "outputs": [
    {
     "name": "stdout",
     "output_type": "stream",
     "text": [
      "-319.41485034302696 18.33540519800822\n"
     ]
    }
   ],
   "source": [
    "reg.fit(x,y) # fitting model\n",
    "a=reg.intercept_[0]\n",
    "b=reg.coef_[0][0]\n",
    "\n",
    "print(a,b)"
   ]
  },
  {
   "cell_type": "markdown",
   "metadata": {},
   "source": [
    "\n",
    "<font size =4> Plotting the data with the model's prediction"
   ]
  },
  {
   "cell_type": "code",
   "execution_count": 6,
   "metadata": {
    "ExecuteTime": {
     "end_time": "2020-09-23T17:37:17.218318Z",
     "start_time": "2020-09-23T17:37:17.010428Z"
    }
   },
   "outputs": [
    {
     "data": {
      "text/plain": [
       "Text(0, 0.5, 'Deaths')"
      ]
     },
     "execution_count": 6,
     "metadata": {},
     "output_type": "execute_result"
    },
    {
     "data": {
      "image/png": "[encoded data removed]",
      "text/plain": [
       "<Figure size 432x288 with 1 Axes>"
      ]
     },
     "metadata": {
      "needs_background": "light"
     },
     "output_type": "display_data"
    }
   ],
   "source": [
    "plt.plot(x, a + b*x, \"r\") # Simple linear regression\n",
    "\n",
    "plt.scatter(x,y)\n",
    "\n",
    "plt.title('Predicted vs Actual COVID-19 Deaths in NC')\n",
    "plt.xlabel('Days since first recorded death')\n",
    "plt.ylabel('Deaths')"
   ]
  },
  {
   "cell_type": "code",
   "execution_count": 7,
   "metadata": {},
   "outputs": [
    {
     "name": "stdout",
     "output_type": "stream",
     "text": [
      "Predicted number of deaths on Nov. 3rd: 3751\n"
     ]
    }
   ],
   "source": [
    "deathsByElection = (b*(182+40)) + a \n",
    "print(\"Predicted number of deaths on Nov. 3rd:\",int(deathsByElection)) # Not very accurate"
   ]
  },
  {
   "cell_type": "markdown",
   "metadata": {},
   "source": [
    "<font size=4 color =darkblue> Predicting number of deaths 41 days from today (9-23-2020) on Nov. 3rd\n",
    "\n",
    "<font color=red> => 3751 Deaths Predicted (not very accurate)"
   ]
  },
  {
   "cell_type": "markdown",
   "metadata": {},
   "source": [
    "#  2nd Order Polynomial Regression\n",
    "\n",
    "# This model takes the form  $h(x)=a+bx+c x^2$ "
   ]
  },
  {
   "cell_type": "code",
   "execution_count": 8,
   "metadata": {
    "ExecuteTime": {
     "end_time": "2020-09-23T17:37:17.254270Z",
     "start_time": "2020-09-23T17:37:17.228286Z"
    }
   },
   "outputs": [
    {
     "name": "stdout",
     "output_type": "stream",
     "text": [
      "a (Intercept term) = -55.43017019812578\n",
      "b (Coefficient 1) = 9.727209106326665\n",
      "c (Coefficient 2) = 0.047039322905363695\n"
     ]
    }
   ],
   "source": [
    "poly_f=PolynomialFeatures(degree=2,include_bias=False) # Instantiating quadratic term\n",
    "\n",
    "X_poly=poly_f.fit_transform(x) # Applying quadratic transformation\n",
    "\n",
    "reg.fit(X_poly,y) # fitting data to new model\n",
    "\n",
    "a=reg.intercept_[0]\n",
    "b=reg.coef_[0][0]\n",
    "c=reg.coef_[0][1]\n",
    "\n",
    "print(\"a (Intercept term) =\",a)\n",
    "print(\"b (Coefficient 1) =\",b)\n",
    "print(\"c (Coefficient 2) =\",c)"
   ]
  },
  {
   "cell_type": "markdown",
   "metadata": {
    "ExecuteTime": {
     "end_time": "2020-09-23T17:32:37.812885Z",
     "start_time": "2020-09-23T17:32:37.806875Z"
    }
   },
   "source": [
    "\n",
    "# Plotting the data with the model's prediction"
   ]
  },
  {
   "cell_type": "code",
   "execution_count": 9,
   "metadata": {
    "ExecuteTime": {
     "end_time": "2020-09-23T17:37:17.466176Z",
     "start_time": "2020-09-23T17:37:17.259267Z"
    }
   },
   "outputs": [
    {
     "data": {
      "text/plain": [
       "<matplotlib.lines.Line2D at 0x16c49060220>"
      ]
     },
     "execution_count": 9,
     "metadata": {},
     "output_type": "execute_result"
    },
    {
     "data": {
      "image/png": "[encoded data removed]",
      "text/plain": [
       "<Figure size 864x864 with 1 Axes>"
      ]
     },
     "metadata": {
      "needs_background": "light"
     },
     "output_type": "display_data"
    }
   ],
   "source": [
    "plt.figure(figsize=(12,12))\n",
    "\n",
    "plt.scatter(x,y)\n",
    "x=np.linspace(223,1,223)\n",
    "x=np.reshape(x,(223,1))\n",
    "\n",
    "plt.xlim(0, 240)\n",
    "plt.ylim(0,5000)\n",
    "\n",
    "plt.plot(x, a + b*x+c*np.power(x,2), \"r\")\n",
    "\n",
    "plt.title('Predicted vs Actual COVID-19 Deaths in NC')\n",
    "plt.xlabel('Days since first recorded death')\n",
    "plt.ylabel('Deaths')\n",
    "\n",
    "plt.axvline(x=182+41,color='b') # Blue vertical line corresponds with date of election\n",
    "plt.axhline(y=a + b*(182+41) + c*(182+41)**2,color='b') "
   ]
  },
  {
   "cell_type": "code",
   "execution_count": 10,
   "metadata": {},
   "outputs": [
    {
     "name": "stdout",
     "output_type": "stream",
     "text": [
      "Predicted number of deaths on Nov. 3rd: 4452\n"
     ]
    }
   ],
   "source": [
    "deathsByElection = a + b*(182+41) + c*(182+41)**2\n",
    "\n",
    "print(\"Predicted number of deaths on Nov. 3rd:\",int(deathsByElection))"
   ]
  },
  {
   "cell_type": "markdown",
   "metadata": {},
   "source": [
    "<font size=4 color =darkblue> Predicting number of deaths 41 days from today (9-23-2020) on Nov. 3rd\n",
    "\n",
    "<font color=red> => 4452 Deaths Predicted"
   ]
  },
  {
   "cell_type": "markdown",
   "metadata": {},
   "source": [
    "# The acutal number of deaths on Nov. 3rd came out to 4,457 ; an unfortunately accurate forecast and an underestimation at that. . . "
   ]
  },
  {
   "cell_type": "markdown",
   "metadata": {},
   "source": [
    "#  Time to update the model with current information"
   ]
  },
  {
   "cell_type": "code",
   "execution_count": 11,
   "metadata": {},
   "outputs": [
    {
     "data": {
      "text/html": [
       "<div>\n",
       "<style scoped>\n",
       "    .dataframe tbody tr th:only-of-type {\n",
       "        vertical-align: middle;\n",
       "    }\n",
       "\n",
       "    .dataframe tbody tr th {\n",
       "        vertical-align: top;\n",
       "    }\n",
       "\n",
       "    .dataframe thead th {\n",
       "        text-align: right;\n",
       "    }\n",
       "</style>\n",
       "<table border=\"1\" class=\"dataframe\">\n",
       "  <thead>\n",
       "    <tr style=\"text-align: right;\">\n",
       "      <th></th>\n",
       "      <th>Date</th>\n",
       "      <th>Cases by Report Date</th>\n",
       "      <th>Molecular (PCR) Positive Cases by Specimen Date</th>\n",
       "      <th>Antigen Positive Cases by Specimen Date</th>\n",
       "      <th>NC Deaths</th>\n",
       "    </tr>\n",
       "  </thead>\n",
       "  <tbody>\n",
       "    <tr>\n",
       "      <th>0</th>\n",
       "      <td>11/3/2020</td>\n",
       "      <td>2349</td>\n",
       "      <td>NaN</td>\n",
       "      <td>NaN</td>\n",
       "      <td>4457</td>\n",
       "    </tr>\n",
       "    <tr>\n",
       "      <th>1</th>\n",
       "      <td>11/2/2020</td>\n",
       "      <td>1336</td>\n",
       "      <td>26.0</td>\n",
       "      <td>49.0</td>\n",
       "      <td>4390</td>\n",
       "    </tr>\n",
       "    <tr>\n",
       "      <th>2</th>\n",
       "      <td>11/1/2020</td>\n",
       "      <td>2057</td>\n",
       "      <td>359.0</td>\n",
       "      <td>54.0</td>\n",
       "      <td>4383</td>\n",
       "    </tr>\n",
       "    <tr>\n",
       "      <th>3</th>\n",
       "      <td>10/31/2020</td>\n",
       "      <td>2805</td>\n",
       "      <td>591.0</td>\n",
       "      <td>77.0</td>\n",
       "      <td>4378</td>\n",
       "    </tr>\n",
       "    <tr>\n",
       "      <th>4</th>\n",
       "      <td>10/30/2020</td>\n",
       "      <td>2809</td>\n",
       "      <td>1786.0</td>\n",
       "      <td>130.0</td>\n",
       "      <td>4332</td>\n",
       "    </tr>\n",
       "  </tbody>\n",
       "</table>\n",
       "</div>"
      ],
      "text/plain": [
       "         Date  Cases by Report Date  \\\n",
       "0   11/3/2020                  2349   \n",
       "1   11/2/2020                  1336   \n",
       "2   11/1/2020                  2057   \n",
       "3  10/31/2020                  2805   \n",
       "4  10/30/2020                  2809   \n",
       "\n",
       "   Molecular (PCR) Positive Cases by Specimen Date  \\\n",
       "0                                              NaN   \n",
       "1                                             26.0   \n",
       "2                                            359.0   \n",
       "3                                            591.0   \n",
       "4                                           1786.0   \n",
       "\n",
       "   Antigen Positive Cases by Specimen Date  NC Deaths  \n",
       "0                                      NaN       4457  \n",
       "1                                     49.0       4390  \n",
       "2                                     54.0       4383  \n",
       "3                                     77.0       4378  \n",
       "4                                    130.0       4332  "
      ]
     },
     "execution_count": 11,
     "metadata": {},
     "output_type": "execute_result"
    }
   ],
   "source": [
    "# Loading in most recent data updated as of today Nov. 3rd\n",
    "#update with NCcovidNew#############\n",
    "NCcovidNew=pd.read_excel('NCcovidNew.xlsx', sheet_name='Sheet 1')\n",
    "NCcovidNew.head()"
   ]
  },
  {
   "cell_type": "code",
   "execution_count": 12,
   "metadata": {
    "scrolled": true
   },
   "outputs": [
    {
     "data": {
      "text/plain": [
       "(224,)"
      ]
     },
     "execution_count": 12,
     "metadata": {},
     "output_type": "execute_result"
    }
   ],
   "source": [
    "date = NCcovidNew['Date']\n",
    "y = NCcovidNew['NC Deaths']\n",
    "date.shape # 224 days of data "
   ]
  },
  {
   "cell_type": "code",
   "execution_count": 13,
   "metadata": {},
   "outputs": [],
   "source": [
    "# Reshpaing the data \n",
    "x=np.linspace(224,1,224)\n",
    "x=np.reshape(x,(224,1))\n",
    "y=np.array(y)\n",
    "y=np.reshape(y,(224,1))"
   ]
  },
  {
   "cell_type": "markdown",
   "metadata": {},
   "source": [
    "# Using 2nd order Polynomial Regression once again"
   ]
  },
  {
   "cell_type": "code",
   "execution_count": 14,
   "metadata": {},
   "outputs": [
    {
     "name": "stdout",
     "output_type": "stream",
     "text": [
      "a (Intercept term) = -64.88491059525245\n",
      "b (Coefficient 1) = 10.06007469864205\n",
      "c (Coefficient 2) = 0.04522201123331129\n"
     ]
    }
   ],
   "source": [
    "poly_f=PolynomialFeatures(degree=2,include_bias=False) # Instantiating quadratic term\n",
    "\n",
    "X_poly=poly_f.fit_transform(x) # Applying quadratic transformation\n",
    "\n",
    "reg.fit(X_poly,y) # fitting data to new model\n",
    "\n",
    "a=reg.intercept_[0]\n",
    "b=reg.coef_[0][0]\n",
    "c=reg.coef_[0][1]\n",
    "\n",
    "print(\"a (Intercept term) =\",a)\n",
    "print(\"b (Coefficient 1) =\",b)\n",
    "print(\"c (Coefficient 2) =\",c)"
   ]
  },
  {
   "cell_type": "markdown",
   "metadata": {},
   "source": [
    "# Plotting the data with the model's forecast"
   ]
  },
  {
   "cell_type": "code",
   "execution_count": 15,
   "metadata": {},
   "outputs": [
    {
     "data": {
      "text/plain": [
       "<matplotlib.lines.Line2D at 0x16c491c5820>"
      ]
     },
     "execution_count": 15,
     "metadata": {},
     "output_type": "execute_result"
    },
    {
     "data": {
      "image/png": "[encoded data removed]",
      "text/plain": [
       "<Figure size 864x864 with 1 Axes>"
      ]
     },
     "metadata": {
      "needs_background": "light"
     },
     "output_type": "display_data"
    }
   ],
   "source": [
    "plt.figure(figsize=(12,12))\n",
    "plt.scatter(x,y)\n",
    "\n",
    "x=np.linspace(282,1,282)\n",
    "x=np.reshape(x,(282,1))\n",
    "plt.xlim(0, 290)\n",
    "plt.ylim(0,8000)\n",
    "\n",
    "plt.plot(x, a + b*x+c*np.power(x,2), \"r\")\n",
    "\n",
    "plt.title('Predicted vs Actual COVID-19 Deaths in NC')\n",
    "plt.xlabel('Days since first recorded death')\n",
    "plt.ylabel('Deaths')\n",
    "\n",
    "plt.axvline(x=224+58,color='b') # Blue vertical line corresponds with Dec. 31st\n",
    "plt.axvline(x=224,color='g') # Blue vertical line corresponds with Dec. 31st\n",
    "plt.axhline(y=a + b*(224+58) + c*(224+58)**2,color='b') \n",
    "plt.axhline(y=a + b*(224) + c*(224)**2,color='g') # Corresponds with today's death total of 4,457"
   ]
  },
  {
   "cell_type": "code",
   "execution_count": 16,
   "metadata": {},
   "outputs": [
    {
     "name": "stdout",
     "output_type": "stream",
     "text": [
      "Predicted number of deaths on Dec. 31st: 6368\n"
     ]
    }
   ],
   "source": [
    "deathsByNewYears = a + b*(224+58) + c*(224+58)**2 # Forecasting 58 days into the future\n",
    "\n",
    "print(\"Predicted number of deaths on Dec. 31st:\",int(deathsByNewYears))"
   ]
  },
  {
   "cell_type": "markdown",
   "metadata": {},
   "source": [
    "<font size=4 color =darkblue> Predicting number of deaths 58 days from today (11-3-2020) on Dec. 31st\n",
    "\n",
    "<font color=red> => 6368 Deaths Predicted"
   ]
  }
 ],
 "metadata": {
  "kernelspec": {
   "display_name": "Python 3",
   "language": "python",
   "name": "python3"
  },
  "language_info": {
   "codemirror_mode": {
    "name": "ipython",
    "version": 3
   },
   "file_extension": ".py",
   "mimetype": "text/x-python",
   "name": "python",
   "nbconvert_exporter": "python",
   "pygments_lexer": "ipython3",
   "version": "3.8.3"
  },
  "toc": {
   "base_numbering": 1,
   "nav_menu": {},
   "number_sections": true,
   "sideBar": true,
   "skip_h1_title": false,
   "title_cell": "Table of Contents",
   "title_sidebar": "Contents",
   "toc_cell": false,
   "toc_position": {},
   "toc_section_display": true,
   "toc_window_display": true
  },
  "varInspector": {
   "cols": {
    "lenName": 16,
    "lenType": 16,
    "lenVar": 40
   },
   "kernels_config": {
    "python": {
     "delete_cmd_postfix": "",
     "delete_cmd_prefix": "del ",
     "library": "var_list.py",
     "varRefreshCmd": "print(var_dic_list())"
    },
    "r": {
     "delete_cmd_postfix": ") ",
     "delete_cmd_prefix": "rm(",
     "library": "var_list.r",
     "varRefreshCmd": "cat(var_dic_list()) "
    }
   },
   "types_to_exclude": [
    "module",
    "function",
    "builtin_function_or_method",
    "instance",
    "_Feature"
   ],
   "window_display": false
  }
 },
 "nbformat": 4,
 "nbformat_minor": 4
}
